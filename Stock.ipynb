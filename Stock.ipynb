{
 "cells": [
  {
   "cell_type": "markdown",
   "id": "0c7633a6",
   "metadata": {},
   "source": [
    "### 0. Import Dependencies"
   ]
  },
  {
   "cell_type": "code",
   "execution_count": null,
   "id": "9856efbf",
   "metadata": {},
   "outputs": [],
   "source": [
    "import sys, subprocess, importlib, warnings, os, json, math, gc\n",
    "from datetime import datetime, timedelta\n",
    "warnings.filterwarnings(\"ignore\")\n",
    "\n",
    "def ensure(pkg, import_name=None):\n",
    "    name = import_name or pkg\n",
    "    try:\n",
    "        return importlib.import_module(name)\n",
    "    except ImportError:\n",
    "        try:\n",
    "            subprocess.run([sys.executable, \"-m\", \"pip\", \"install\", \"--quiet\", pkg], check=True)\n",
    "            return importlib.import_module(name)\n",
    "        except Exception as e:\n",
    "            print(f\"Could not install {pkg}: {e}\")\n",
    "            return None\n",
    "\n",
    "# Core deps\n",
    "np = ensure(\"numpy\", \"numpy\")\n",
    "pd = ensure(\"pandas\", \"pandas\")\n",
    "plt_mod = ensure(\"matplotlib\", \"matplotlib\")\n",
    "if plt_mod:\n",
    "    import matplotlib.pyplot as plt\n",
    "\n",
    "sns = ensure(\"seaborn\", \"seaborn\")\n",
    "sklearn = ensure(\"scikit-learn\", \"sklearn\")\n",
    "if sklearn:\n",
    "    from sklearn.preprocessing import StandardScaler, MinMaxScaler, OneHotEncoder\n",
    "    from sklearn.compose import ColumnTransformer\n",
    "    from sklearn.pipeline import Pipeline\n",
    "    from sklearn.metrics import mean_squared_error, mean_absolute_error, r2_score\n",
    "    from sklearn.impute import SimpleImputer\n",
    "    from sklearn.neural_network import MLPRegressor\n",
    "\n",
    "joblib = ensure(\"joblib\", \"joblib\")\n",
    "statsmodels = ensure(\"statsmodels\", \"statsmodels\")\n",
    "if statsmodels:\n",
    "    from statsmodels.tsa.stattools import adfuller\n",
    "    from statsmodels.graphics.tsaplots import plot_acf, plot_pacf\n",
    "    from statsmodels.tsa.seasonal import seasonal_decompose\n",
    "\n",
    "tf = ensure(\"tensorflow\", \"tensorflow\")\n",
    "torch = ensure(\"torch\", \"torch\")\n",
    "yfinance = ensure(\"yfinance\", \"yfinance\")\n",
    "plotly = ensure(\"plotly\", \"plotly\")\n",
    "\n",
    "print({\n",
    "    \"numpy\": np is not None, \"pandas\": pd is not None, \"matplotlib\": plt_mod is not None,\n",
    "    \"seaborn\": sns is not None, \"sklearn\": sklearn is not None, \"statsmodels\": statsmodels is not None,\n",
    "    \"tensorflow\": tf is not None, \"torch\": torch is not None, \"yfinance\": yfinance is not None,\n",
    "    \"plotly\": plotly is not None\n",
    "})"
   ]
  }
 ],
 "metadata": {
  "kernelspec": {
   "display_name": "Python 3",
   "language": "python",
   "name": "python3"
  },
  "language_info": {
   "name": "python",
   "version": "3.13.5"
  }
 },
 "nbformat": 4,
 "nbformat_minor": 5
}
