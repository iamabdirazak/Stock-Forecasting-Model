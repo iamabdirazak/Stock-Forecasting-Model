{
 "cells": [
  {
   "cell_type": "markdown",
   "id": "0c7633a6",
   "metadata": {},
   "source": [
    "### 0. Import Dependencies"
   ]
  },
  {
   "cell_type": "code",
   "execution_count": null,
   "id": "9856efbf",
   "metadata": {},
   "outputs": [],
   "source": []
  }
 ],
 "metadata": {
  "kernelspec": {
   "display_name": "Python 3",
   "language": "python",
   "name": "python3"
  },
  "language_info": {
   "name": "python",
   "version": "3.13.5"
  }
 },
 "nbformat": 4,
 "nbformat_minor": 5
}
